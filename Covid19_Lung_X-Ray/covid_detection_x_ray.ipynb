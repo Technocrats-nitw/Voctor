{
  "nbformat": 4,
  "nbformat_minor": 0,
  "metadata": {
    "colab": {
      "name": "covid_detection_x-ray",
      "provenance": []
    },
    "kernelspec": {
      "name": "python3",
      "display_name": "Python 3"
    },
    "language_info": {
      "name": "python"
    }
  },
  "cells": [
    {
      "cell_type": "code",
      "metadata": {
        "id": "_YF4CbLmf8iK"
      },
      "source": [
        "from keras import backend as K\n",
        "from keras.preprocessing.image import ImageDataGenerator,load_img, img_to_array\n",
        "from keras.models import Sequential, Model\n",
        "from keras.layers import Conv2D, MaxPooling2D,GlobalAveragePooling2D\n",
        "from keras.layers import Activation, Dropout, BatchNormalization, Flatten, Dense, AvgPool2D,MaxPool2D\n",
        "from keras.models import Sequential, Model\n",
        "from keras.applications.vgg16 import VGG16, preprocess_input\n",
        "from keras.optimizers import Adam, SGD, RMSprop\n",
        "\n",
        "import tensorflow as tf\n",
        "\n",
        "import os\n",
        "import numpy as np\n",
        "import pandas as pd\n",
        "\n",
        "import matplotlib.pyplot as plt\n",
        "%matplotlib inline"
      ],
      "execution_count": null,
      "outputs": []
    },
    {
      "cell_type": "code",
      "metadata": {
        "id": "03XMwJChgK7c"
      },
      "source": [
        "DATASET_DIR = \"/content/dataset\""
      ],
      "execution_count": null,
      "outputs": []
    },
    {
      "cell_type": "code",
      "metadata": {
        "id": "-5KC1LBogVR8"
      },
      "source": [
        "IMG_W = 150\n",
        "IMG_H = 150\n",
        "CHANNELS = 3\n",
        "\n",
        "INPUT_SHAPE = (IMG_W, IMG_H, CHANNELS)\n",
        "NB_CLASSES = 2\n",
        "EPOCHS = 48\n",
        "BATCH_SIZE = 6\n",
        "\n"
      ],
      "execution_count": null,
      "outputs": []
    },
    {
      "cell_type": "code",
      "metadata": {
        "id": "lAb2KFUDgV7q"
      },
      "source": [
        "model = Sequential()\n",
        "model.add(Conv2D(32, (3, 3), input_shape=INPUT_SHAPE))\n",
        "model.add(Activation('relu'))\n",
        "model.add(MaxPooling2D(pool_size=(2, 2)))\n",
        "\n",
        "model.add(Conv2D(32, (3, 3)))\n",
        "model.add(Activation('relu'))\n",
        "model.add(MaxPooling2D(pool_size=(2, 2)))\n",
        "\n",
        "\n",
        "model.add(Conv2D(64,(3,3)))\n",
        "model.add(Activation(\"relu\"))\n",
        "model.add(Conv2D(250,(3,3)))\n",
        "model.add(Activation(\"relu\"))\n",
        "  \n",
        "model.add(Conv2D(128,(3,3)))\n",
        "model.add(Activation(\"relu\"))\n",
        "model.add(AvgPool2D(2,2))\n",
        "model.add(Conv2D(64,(3,3)))\n",
        "model.add(Activation(\"relu\"))\n",
        "model.add(AvgPool2D(2,2))\n",
        "\n",
        "model.add(Conv2D(256,(2,2)))\n",
        "model.add(Activation(\"relu\"))\n",
        "model.add(MaxPool2D(2,2))\n",
        "    \n",
        "model.add(Flatten())\n",
        "model.add(Dense(32))\n",
        "model.add(Dropout(0.25))\n",
        "model.add(Dense(1))\n",
        "model.add(Activation(\"sigmoid\"))"
      ],
      "execution_count": null,
      "outputs": []
    },
    {
      "cell_type": "code",
      "metadata": {
        "id": "qE5aas42gWBd"
      },
      "source": [
        "model.compile(loss='binary_crossentropy',\n",
        "              optimizer='rmsprop',\n",
        "              metrics=['accuracy'])"
      ],
      "execution_count": null,
      "outputs": []
    },
    {
      "cell_type": "code",
      "metadata": {
        "id": "3Q2-DklqgWGv"
      },
      "source": [
        "train_datagen = ImageDataGenerator(rescale=1./255,\n",
        "    shear_range=0.2,\n",
        "    zoom_range=0.2,\n",
        "    horizontal_flip=True,\n",
        "    validation_split=0.3)\n",
        "\n",
        "train_generator = train_datagen.flow_from_directory(\n",
        "    DATASET_DIR,\n",
        "    target_size=(IMG_H, IMG_W),\n",
        "    batch_size=BATCH_SIZE,\n",
        "    class_mode='binary',\n",
        "    subset='training')\n",
        "\n",
        "validation_generator = train_datagen.flow_from_directory(\n",
        "    DATASET_DIR, \n",
        "    target_size=(IMG_H, IMG_W),\n",
        "    batch_size=BATCH_SIZE,\n",
        "    class_mode='binary',\n",
        "    shuffle= False,\n",
        "    subset='validation')\n",
        "\n",
        "history = model.fit_generator(\n",
        "    train_generator,\n",
        "    steps_per_epoch = train_generator.samples // BATCH_SIZE,\n",
        "    validation_data = validation_generator, \n",
        "    validation_steps = validation_generator.samples // BATCH_SIZE,\n",
        "    epochs = EPOCHS)"
      ],
      "execution_count": null,
      "outputs": []
    },
    {
      "cell_type": "code",
      "metadata": {
        "id": "K9XE-hGChaTg"
      },
      "source": [
        "print(\"training_accuracy\", history.history['accuracy'][-1])\n",
        "print(\"validation_accuracy\", history.history['val_accuracy'][-1])\n",
        "label = validation_generator.classes\n",
        "pred= model.predict(validation_generator)\n",
        "predicted_class_indices=np.argmax(pred,axis=1)\n",
        "labels = (validation_generator.class_indices)\n",
        "labels2 = dict((v,k) for k,v in labels.items())\n",
        "predictions = [labels2[k] for k in predicted_class_indices]\n",
        "\n",
        "from sklearn.metrics import confusion_matrix\n",
        "\n",
        "cf = confusion_matrix(predicted_class_indices,label)\n",
        "cf"
      ],
      "execution_count": null,
      "outputs": []
    },
    {
      "cell_type": "code",
      "metadata": {
        "id": "fm9HKLFDljou"
      },
      "source": [
        "from sklearn.datasets import make_classification\n",
        "from sklearn.model_selection import train_test_split\n",
        "\n",
        "X, y = make_classification(n_samples=80000)\n",
        "X_train, X_test, y_train, y_test = train_test_split(X, y, test_size=0.5)\n",
        "\n",
        "X_train, X_train_lr, y_train, y_train_lr = train_test_split(X_train,\n",
        "                                                            y_train,\n",
        "                                                            test_size=0.5)\n",
        "from keras.models import Sequential\n",
        "from keras.layers import Dense\n",
        "\n",
        "def build_model():\n",
        "    model = Sequential()\n",
        "    model.add(Dense(20, input_dim=20, activation='relu'))\n",
        "    model.add(Dense(40, activation='relu'))\n",
        "    model.add(Dense(1, activation='sigmoid'))\n",
        "    # Compile model\n",
        "    model.compile(loss='binary_crossentropy', optimizer='adam', metrics=['accuracy'])\n",
        "    return model"
      ],
      "execution_count": null,
      "outputs": []
    },
    {
      "cell_type": "code",
      "metadata": {
        "id": "8STxecIBlTUk"
      },
      "source": [
        "keras_model = build_model()\n",
        "keras_model.fit(X_train, y_train, epochs=5, batch_size=100, verbose=1)"
      ],
      "execution_count": null,
      "outputs": []
    },
    {
      "cell_type": "code",
      "metadata": {
        "id": "HvfzSee-iv13"
      },
      "source": [
        "keras_model.save('covid.model')"
      ],
      "execution_count": null,
      "outputs": []
    }
  ]
}